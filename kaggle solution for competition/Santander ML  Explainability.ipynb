{
  "cells": [
    {
      "metadata": {
        "_uuid": "8f2839f25d086af736a60e9eeb907d3b93b6e0e5",
        "_cell_guid": "b1076dfc-b9ad-4769-8c92-a6c4dae69d19",
        "trusted": true
      },
      "cell_type": "markdown",
      "source": " #  <div style=\"text-align: center\"> Santander ML  Explainability  </div> \n###  <div style=\"text-align: center\">CLEAR DATA. MADE MODEL. </div> \n<img src='https://storage.googleapis.com/kaggle-media/competitions/santander/atm_image.png' width=400 height=400>\n<div style=\"text-align:center\"> last update: <b>16/02/2019</b></div>\n\n\n\nYou can Fork code  and  Follow me on:\n\n> ###### [ GitHub](https://github.com/mjbahmani/10-steps-to-become-a-data-scientist)\n> ###### [Kaggle](https://www.kaggle.com/mjbahmani/)\n-------------------------------------------------------------------------------------------------------------\n <b>I hope you find this kernel helpful and some <font color='red'>UPVOTES</font> would be very much appreciated.</b>\n    \n -----------"
    },
    {
      "metadata": {
        "_cell_guid": "79c7e3d0-c299-4dcb-8224-4455121ee9b0",
        "collapsed": true,
        "_uuid": "d629ff2d2480ee46fbb7e2d37f6b5fab8052498a",
        "trusted": false
      },
      "cell_type": "markdown",
      "source": " <a id=\"top\"></a> <br>\n## Notebook  Content\n1. [Introduction](#1)\n1. [Load packages](#2)\n    1. [import](21)\n    1. [Setup](22)\n    1. [Version](23)\n1. [Problem Definition](#3)\n    1. [Problem Feature](#31)\n    1. [Aim](#32)\n    1. [Variables](#33)\n    1. [Evaluation](#34)\n1. [Exploratory Data Analysis(EDA)](#4)\n    1. [Data Collection](#41)\n    1. [Visualization](#42)\n    1. [Data Preprocessing](#43)\n1. [Model Development](#5)\n1. [Conclusion](#5)\n1. [References](#6)"
    },
    {
      "metadata": {
        "_uuid": "af63d485947264b68c37768c73ffac21bb631c0f"
      },
      "cell_type": "markdown",
      "source": " <a id=\"1\"></a> <br>\n## 1- Introduction\nAt [Santander](https://www.santanderbank.com) their mission is to help people and businesses prosper. they are always looking for ways to help our customers understand their financial health and identify which products and services might help them achieve their monetary goals.\n<img src='https://www.smava.de/kredit/wp-content/uploads/2015/12/santander-bank.png' width=400 height=400>\n\nFor anyone taking first steps in data science, **Prediction** is a must know concept. "
    },
    {
      "metadata": {
        "_uuid": "733f1f0e45933f46a674df4d9ee6561de156d748"
      },
      "cell_type": "markdown",
      "source": " <a id=\"2\"></a> <br>\n ## 2- Load packages\n  <a id=\"21\"></a> <br>\n## 2-1 Import"
    },
    {
      "metadata": {
        "_kg_hide-input": true,
        "trusted": true,
        "_uuid": "7646c73810d475601436c096d36498cfaa489ec4"
      },
      "cell_type": "code",
      "source": "from sklearn.model_selection import train_test_split\nfrom sklearn.model_selection import StratifiedKFold\nfrom sklearn.ensemble import RandomForestClassifier\nfrom sklearn.tree import DecisionTreeClassifier\nimport matplotlib.patches as patch\nimport matplotlib.pyplot as plt\nfrom sklearn.svm import NuSVR\nfrom scipy.stats import norm\nfrom sklearn import svm\nimport lightgbm as lgb\nimport xgboost as xgb\nimport seaborn as sns\nimport pandas as pd\nimport numpy as np\nimport warnings\nimport glob\nimport sys\nimport os\nimport gc",
      "execution_count": null,
      "outputs": []
    },
    {
      "metadata": {
        "_uuid": "ec9e63f88e677ed60bfe5a8de4bb0b2a8be8b00a"
      },
      "cell_type": "markdown",
      "source": " <a id=\"22\"></a> <br>\n##  2-2 Setup"
    },
    {
      "metadata": {
        "_kg_hide-input": true,
        "trusted": true,
        "_uuid": "16768a965c3ced6a76d33642e11ecae18f5977e8"
      },
      "cell_type": "code",
      "source": "%matplotlib inline\n%precision 4\nwarnings.filterwarnings('ignore')\nplt.style.use('ggplot')\nnp.set_printoptions(suppress=True)\npd.set_option(\"display.precision\", 15)",
      "execution_count": null,
      "outputs": []
    },
    {
      "metadata": {
        "_uuid": "9bcec14c7403174f2a9fdab866ea8248aa76328d"
      },
      "cell_type": "markdown",
      "source": " <a id=\"23\"></a> <br>\n## 2-3 Version\n"
    },
    {
      "metadata": {
        "_kg_hide-input": true,
        "trusted": true,
        "_uuid": "4644581a5ce6c2c98ec2668a95037742b189c318"
      },
      "cell_type": "code",
      "source": "print('pandas: {}'.format(pd.__version__))\nprint('numpy: {}'.format(np.__version__))\nprint('Python: {}'.format(sys.version))",
      "execution_count": null,
      "outputs": []
    },
    {
      "metadata": {
        "_uuid": "ccfe7d54dac0cf31125a49b1981d25a69e679db0"
      },
      "cell_type": "markdown",
      "source": "<a id=\"3\"></a> \n<br>\n## 3- Problem Definition\nIn this **challenge**, we should help this **bank**  identify which **customers** will make a **specific transaction** in the future, irrespective of the amount of money transacted. The data provided for this competition has the same structure as the real data we have available to solve this **problem**.\n"
    },
    {
      "metadata": {
        "_uuid": "dc84d5445dab932c46e2c5dfe86f2131e98aa0f1"
      },
      "cell_type": "markdown",
      "source": "<a id=\"31\"></a> \n### 3-1 Problem Feature\n\n1. train.csv - the training set.\n1. test.csv - the test set. The test set contains some rows which are not included in scoring.\n1. sample_submission.csv - a sample submission file in the correct format.\n"
    },
    {
      "metadata": {
        "_uuid": "449535074de09edf5cdccb5a63539661fff29be6"
      },
      "cell_type": "markdown",
      "source": "<a id=\"32\"></a> \n### 3-2 Aim\nIn this competition, The task is to predict the value of **target** column in the test set."
    },
    {
      "metadata": {
        "_uuid": "184d1004ff1f90fdf9d475cbb37ea94b89dd2567"
      },
      "cell_type": "markdown",
      "source": "<a id=\"33\"></a> \n### 3-3 Variables\n\nWe are provided with an **anonymized dataset containing numeric feature variables**, the binary **target** column, and a string **ID_code** column.\n\nThe task is to predict the value of **target column** in the test set.\n"
    },
    {
      "metadata": {
        "_uuid": "81b77e49bae78bad2c31bc2ce101c1fff8296af0"
      },
      "cell_type": "markdown",
      "source": "<a id=\"34\"></a> \n## 3-4 evaluation\n**Submissions** are evaluated on area under the [ROC curve](http://en.wikipedia.org/wiki/Receiver_operating_characteristic) between the predicted probability and the observed target.\n<img src='https://upload.wikimedia.org/wikipedia/commons/6/6b/Roccurves.png' width=300 height=300>"
    },
    {
      "metadata": {
        "trusted": true,
        "_uuid": "9ba4b5a56a9c67899ed54c7e4dad0930ce90fbfa"
      },
      "cell_type": "code",
      "source": "from sklearn.metrics import roc_auc_score, roc_curve",
      "execution_count": null,
      "outputs": []
    },
    {
      "metadata": {
        "_uuid": "f8a54abda5d2e30c5cdb25c554bef1f8a341482c"
      },
      "cell_type": "markdown",
      "source": "<a id=\"4\"></a> \n## 4- Exploratory Data Analysis(EDA)\n In this section, we'll analysis how to use graphical and numerical techniques to begin uncovering the structure of your data. \n*  Data Collection\n*  Visualization\n*  Data Preprocessing\n*  Data Cleaning"
    },
    {
      "metadata": {
        "_uuid": "c90af9d21a49adcbd478c56871149f1282c58b7f"
      },
      "cell_type": "markdown",
      "source": " <a id=\"41\"></a> <br>\n## 4-1 Data Collection"
    },
    {
      "metadata": {
        "_kg_hide-input": true,
        "trusted": true,
        "_uuid": "1c883e09dbe7e4b4d7caeb2cf380ec0f07209531"
      },
      "cell_type": "code",
      "source": "print(os.listdir(\"../input/\"))",
      "execution_count": null,
      "outputs": []
    },
    {
      "metadata": {
        "_kg_hide-input": true,
        "trusted": true,
        "_uuid": "7427d2d9ce7dff9d63a355631a1718a6fb6c5847"
      },
      "cell_type": "code",
      "source": "# import Dataset to play with it\ntrain= pd.read_csv(\"../input/train.csv\")\ntest = pd.read_csv('../input/test.csv')",
      "execution_count": null,
      "outputs": []
    },
    {
      "metadata": {
        "_kg_hide-input": true,
        "trusted": true,
        "_uuid": "9be60393f64121beb23124bdec3cef638436e788"
      },
      "cell_type": "code",
      "source": "sample_submission = pd.read_csv('../input/sample_submission.csv')\nsample_submission.head()",
      "execution_count": null,
      "outputs": []
    },
    {
      "metadata": {
        "trusted": true,
        "_uuid": "6acf9a55418407ab1da0e7a8c4e1f540a2618ac3"
      },
      "cell_type": "code",
      "source": "train.shape, test.shape, sample_submission.shape",
      "execution_count": null,
      "outputs": []
    },
    {
      "metadata": {
        "trusted": true,
        "_kg_hide-input": true,
        "_uuid": "1d054476a562f14b8d7e88fd2a8ea3b7b70c371c"
      },
      "cell_type": "code",
      "source": "train.head(5)",
      "execution_count": null,
      "outputs": []
    },
    {
      "metadata": {
        "_uuid": "3820345bbd08346359e699ead3f125f438dbaefc"
      },
      "cell_type": "markdown",
      "source": "##  Data set fields"
    },
    {
      "metadata": {
        "_kg_hide-output": true,
        "trusted": true,
        "_uuid": "6e5f5d0a8e6057a19c41d0698c76cfa5f0e61202"
      },
      "cell_type": "code",
      "source": "train.columns",
      "execution_count": null,
      "outputs": []
    },
    {
      "metadata": {
        "trusted": true,
        "_uuid": "1d31392a34a8bba87565f4a00a44084641a28f5b"
      },
      "cell_type": "code",
      "source": "print(len(train.columns))",
      "execution_count": null,
      "outputs": []
    },
    {
      "metadata": {
        "trusted": true,
        "_uuid": "2b8083e0022c342963869e609a65bae49cbe2d2a"
      },
      "cell_type": "code",
      "source": "print(train.info())",
      "execution_count": null,
      "outputs": []
    },
    {
      "metadata": {
        "_uuid": "1292b57ec3e35831def62fa0a51aebac73df3b69"
      },
      "cell_type": "markdown",
      "source": "## numerical values Describe"
    },
    {
      "metadata": {
        "_kg_hide-input": true,
        "trusted": true,
        "_uuid": "ca9ae169e960fddc581b8da1b15c7e79d8bbe972"
      },
      "cell_type": "code",
      "source": "train.describe()",
      "execution_count": null,
      "outputs": []
    },
    {
      "metadata": {
        "_uuid": "c1eddbf9a17cb7b15b342b4d2d48af7f0ac79006"
      },
      "cell_type": "markdown",
      "source": " <a id=\"42\"></a> <br>\n## 4-2 Visualization"
    },
    {
      "metadata": {
        "trusted": true,
        "_uuid": "70207522d405040466649db4664f6dc9cb75849f"
      },
      "cell_type": "markdown",
      "source": "<a id=\"421\"></a> \n### 4-2-1 hist"
    },
    {
      "metadata": {
        "trusted": true,
        "_uuid": "51042af4ef472a7863f9698fdca2d99eefa0af7d"
      },
      "cell_type": "code",
      "source": "train['target'].value_counts().plot.bar();",
      "execution_count": null,
      "outputs": []
    },
    {
      "metadata": {
        "trusted": true,
        "_uuid": "0cf04a9128e231d216018ba2c23244d6c041e209"
      },
      "cell_type": "code",
      "source": "f,ax=plt.subplots(1,2,figsize=(20,10))\ntrain[train['target']==0].var_0.plot.hist(ax=ax[0],bins=20,edgecolor='black',color='red')\nax[0].set_title('target= 0')\nx1=list(range(0,85,5))\nax[0].set_xticks(x1)\ntrain[train['target']==1].var_0.plot.hist(ax=ax[1],color='green',bins=20,edgecolor='black')\nax[1].set_title('target= 1')\nx2=list(range(0,85,5))\nax[1].set_xticks(x2)\nplt.show()",
      "execution_count": null,
      "outputs": []
    },
    {
      "metadata": {
        "_uuid": "225972f02d20b1aed1a2d6a3dae7e2c14b7caad1"
      },
      "cell_type": "markdown",
      "source": "## Mean Frequency"
    },
    {
      "metadata": {
        "trusted": true,
        "_uuid": "427a904f784fbf353c728e3abafa8628ffa0a52c"
      },
      "cell_type": "code",
      "source": "train[train.columns[2:]].mean().plot('hist');plt.title('Mean Frequency');",
      "execution_count": null,
      "outputs": []
    },
    {
      "metadata": {
        "trusted": true,
        "_uuid": "1498698d6c5175ea7a10ff3595d9f0177e1e6861"
      },
      "cell_type": "markdown",
      "source": "<a id=\"423\"></a> \n### 4-2-3 countplot"
    },
    {
      "metadata": {
        "trusted": true,
        "_uuid": "90cae6c076bcefc862828b177672c2e481b6a15b",
        "_kg_hide-input": true
      },
      "cell_type": "code",
      "source": "f,ax=plt.subplots(1,2,figsize=(18,8))\ntrain['target'].value_counts().plot.pie(explode=[0,0.1],autopct='%1.1f%%',ax=ax[0],shadow=True)\nax[0].set_title('target')\nax[0].set_ylabel('')\nsns.countplot('target',data=train,ax=ax[1])\nax[1].set_title('target')\nplt.show()",
      "execution_count": null,
      "outputs": []
    },
    {
      "metadata": {
        "trusted": true,
        "_uuid": "565eea91ba475dfb935f89052738e98c4338206a"
      },
      "cell_type": "markdown",
      "source": "<a id=\"424\"></a> \n### 4-2-4 hist\nif you check histogram for all feature, you will find that most of them are so similar"
    },
    {
      "metadata": {
        "trusted": true,
        "_uuid": "4cafe1f825c8f5b7d1115411cf6018649ae2c2a1",
        "_kg_hide-input": true
      },
      "cell_type": "code",
      "source": "train[\"var_0\"].hist();",
      "execution_count": null,
      "outputs": []
    },
    {
      "metadata": {
        "trusted": true,
        "_uuid": "291bf70bbea5066cf44df3e4a1093d8b95999910"
      },
      "cell_type": "code",
      "source": "train[\"var_81\"].hist();",
      "execution_count": null,
      "outputs": []
    },
    {
      "metadata": {
        "trusted": true,
        "_uuid": "4fca943180a87f02bf9cdb0802835de1c1114df0"
      },
      "cell_type": "code",
      "source": "train[\"var_2\"].hist();",
      "execution_count": null,
      "outputs": []
    },
    {
      "metadata": {
        "trusted": true,
        "_uuid": "c7c539dd31e2d389813645c30e997f1728e9f926"
      },
      "cell_type": "markdown",
      "source": "<a id=\"426\"></a> \n### 4-2-6 distplot\n the target in data set is **imbalance**"
    },
    {
      "metadata": {
        "trusted": true,
        "_uuid": "6b04bc254eee5dcdeac96c17f9c80a0657515a9b"
      },
      "cell_type": "code",
      "source": "sns.set(rc={'figure.figsize':(9,7)})\nsns.distplot(train['target']);",
      "execution_count": null,
      "outputs": []
    },
    {
      "metadata": {
        "_uuid": "b710f6cb8eb852a3b749774172c911de598b986c"
      },
      "cell_type": "markdown",
      "source": "<a id=\"427\"></a> \n### 4-2-7 violinplot"
    },
    {
      "metadata": {
        "trusted": true,
        "_uuid": "b01885275f75488166c034eafe8a0ca9870ab70b"
      },
      "cell_type": "code",
      "source": "sns.violinplot(data=train,x=\"target\", y=\"var_0\")",
      "execution_count": null,
      "outputs": []
    },
    {
      "metadata": {
        "trusted": true,
        "_uuid": "c9c01ab969d0e85f4ba301bdb4656b8a6ec99d32"
      },
      "cell_type": "code",
      "source": "sns.violinplot(data=train,x=\"target\", y=\"var_81\")",
      "execution_count": null,
      "outputs": []
    },
    {
      "metadata": {
        "_uuid": "8a436a7a7f1391cb78ae3cec6c8d5adb42f41bd2"
      },
      "cell_type": "raw",
      "source": ""
    },
    {
      "metadata": {
        "_uuid": "8afaaae9f83971dd442a16af434d88318d82c352"
      },
      "cell_type": "markdown",
      "source": " <a id=\"43\"></a> <br>\n## 4-3 Data Preprocessing\nBefore we start this section let me intrduce you, some other compitation that they were similar to this:\n\n1. https://www.kaggle.com/artgor/how-to-not-overfit\n1. https://www.kaggle.com/c/home-credit-default-risk\n1. https://www.kaggle.com/c/porto-seguro-safe-driver-prediction"
    },
    {
      "metadata": {
        "_uuid": "a03a95410ad45a7e176ca72a7c03d1b05d49eda6"
      },
      "cell_type": "markdown",
      "source": "## 4-3-1 check missing data for test & train"
    },
    {
      "metadata": {
        "trusted": true,
        "_uuid": "bbcb30c8b016481a47e46d02ef24241f17412027"
      },
      "cell_type": "code",
      "source": "def check_missing_data(df):\n    flag=df.isna().sum().any()\n    if flag==True:\n        total = df.isnull().sum()\n        percent = (df.isnull().sum())/(df.isnull().count()*100)\n        output = pd.concat([total, percent], axis=1, keys=['Total', 'Percent'])\n        data_type = []\n        # written by MJ Bahmani\n        for col in df.columns:\n            dtype = str(df[col].dtype)\n            data_type.append(dtype)\n        output['Types'] = data_type\n        return(np.transpose(output))\n    else:\n        return(False)",
      "execution_count": null,
      "outputs": []
    },
    {
      "metadata": {
        "trusted": true,
        "_kg_hide-input": false,
        "_uuid": "6adc1fb6f7ef818946843b3698583ade2458a218",
        "_kg_hide-output": true
      },
      "cell_type": "code",
      "source": "check_missing_data(train)",
      "execution_count": null,
      "outputs": []
    },
    {
      "metadata": {
        "trusted": true,
        "_uuid": "c7ac1823585acaa773a4507bcf4db9e3c0711bfd"
      },
      "cell_type": "code",
      "source": "check_missing_data(test)",
      "execution_count": null,
      "outputs": []
    },
    {
      "metadata": {
        "_uuid": "9dd09f6e2a06e6902257497eccbf24bec4bcde48"
      },
      "cell_type": "markdown",
      "source": "## 4-3-2 Binary Classification"
    },
    {
      "metadata": {
        "trusted": true,
        "_uuid": "5f7f7d7af58eb891481afd42022ce5fb7e75ebbb"
      },
      "cell_type": "code",
      "source": "train['target'].unique()",
      "execution_count": null,
      "outputs": []
    },
    {
      "metadata": {
        "_uuid": "f9031786ba1022e0970303451664fbacd9687710"
      },
      "cell_type": "markdown",
      "source": "## 4-3-3 dataset is imbalanced. "
    },
    {
      "metadata": {
        "trusted": true,
        "_uuid": "982afe00bd42859191af65e0fd43e06e74dbfab3"
      },
      "cell_type": "code",
      "source": "train['target'].value_counts()",
      "execution_count": null,
      "outputs": []
    },
    {
      "metadata": {
        "trusted": true,
        "_uuid": "d89ebf7be40381c2aca9f78b79ddf11d291b423c"
      },
      "cell_type": "code",
      "source": "def check_balance(df,target):\n    check=[]\n    # written by MJ Bahmani for binary target\n    print('size of data is:',df.shape[0] )\n    for i in [0,1]:\n        print('for target  {} ='.format(i))\n        print(df[target].value_counts()[i]/df.shape[0]*100,'%')\n    ",
      "execution_count": null,
      "outputs": []
    },
    {
      "metadata": {
        "trusted": true,
        "_uuid": "bda7929cf124ed55c06e57e6119ec3a1dff2b220"
      },
      "cell_type": "code",
      "source": "check_balance(train,'target')",
      "execution_count": null,
      "outputs": []
    },
    {
      "metadata": {
        "_uuid": "ad216b95bcbcf07e0b6ee6000f974acd0d2409b6"
      },
      "cell_type": "markdown",
      "source": "## 4-3-4 skewness and kurtosis"
    },
    {
      "metadata": {
        "trusted": true,
        "_uuid": "b669c23c1de584988629ac99bbbe0dd74a56dd7c"
      },
      "cell_type": "code",
      "source": "#skewness and kurtosis\nprint(\"Skewness: %f\" % train['target'].skew())\nprint(\"Kurtosis: %f\" % train['target'].kurt())",
      "execution_count": null,
      "outputs": []
    },
    {
      "metadata": {
        "_uuid": "2569c256bf9b387c2c0e7c06c473f0e841b6db7d"
      },
      "cell_type": "markdown",
      "source": "## 4-3-5 feature importance\nIn this section, I have used this [tutorials](https://www.kaggle.com/dansbecker/permutation-importance), that is amazing for **Permutation Importance**"
    },
    {
      "metadata": {
        "trusted": true,
        "_uuid": "9fafaf9cadb57f7c4d51489df141aa3eb85fd2a1"
      },
      "cell_type": "code",
      "source": "cols=[\"target\",\"ID_code\"]\nX = train.drop(cols,axis=1)\ny = train[\"target\"]\n",
      "execution_count": null,
      "outputs": []
    },
    {
      "metadata": {
        "trusted": true,
        "_uuid": "b79b286d0b1d7bd46525c73efb4690a7145c5cc1"
      },
      "cell_type": "code",
      "source": "X_test  = test.drop(\"ID_code\",axis=1)",
      "execution_count": null,
      "outputs": []
    },
    {
      "metadata": {
        "trusted": true,
        "_uuid": "56c4f79c0c33bc8710ee1fd30df191c4b7030d9f"
      },
      "cell_type": "code",
      "source": "train_X, val_X, train_y, val_y = train_test_split(X, y, random_state=1)\nrfc_model = RandomForestClassifier(random_state=0).fit(train_X, train_y)",
      "execution_count": null,
      "outputs": []
    },
    {
      "metadata": {
        "trusted": true,
        "_uuid": "ca778e1a7c1c6cb721d1944e61438671058e1451"
      },
      "cell_type": "code",
      "source": "",
      "execution_count": null,
      "outputs": []
    },
    {
      "metadata": {
        "_uuid": "a26af6d6608bb4102139f13863433e26c9402319"
      },
      "cell_type": "markdown",
      "source": "Here is how to calculate and show importances with the [eli5](https://eli5.readthedocs.io/en/latest/) library:"
    },
    {
      "metadata": {
        "trusted": true,
        "_uuid": "9adf93667cd114f0c48b9d4bc362253a4a7ef6ad"
      },
      "cell_type": "code",
      "source": "import eli5\nfrom eli5.sklearn import PermutationImportance\n\nperm = PermutationImportance(rfc_model, random_state=1).fit(val_X, val_y)\neli5.show_weights(perm, feature_names = val_X.columns.tolist())",
      "execution_count": null,
      "outputs": []
    },
    {
      "metadata": {
        "_uuid": "6b39ef743a0f03e2670e4d5ba633e17783d60407"
      },
      "cell_type": "markdown",
      "source": "## 4-3-5-1 Interpreting Permutation Importances\n1. The values towards the top are the most important features, and those towards the bottom matter least.\n\n1. The first number in each row shows how much model performance decreased with a random shuffling (in this case, using \"accuracy\" as the performance metric).\n\n1. Like most things in data science, there is some randomness to the exact performance change from a shuffling a column. We measure the amount of randomness in our permutation importance calculation by repeating the process with multiple shuffles. The number after the ± measures how performance varied from one-reshuffling to the next. [1]\n\n**Given the above, can it  be concluded that almost all the features are equally important?!**"
    },
    {
      "metadata": {
        "_uuid": "07ccdd2461ce8a4c3bbc3f349dfbaa2ee499890c"
      },
      "cell_type": "markdown",
      "source": "## 4-3-5-2 Partial Dependence Plots\nWhile feature importance shows what variables most affect predictions, partial dependence plots show how a feature affects predictions.[1]"
    },
    {
      "metadata": {
        "trusted": true,
        "_uuid": "ee0955bd131d648bd537f2539bfb16109775ac7b"
      },
      "cell_type": "code",
      "source": "train_X, val_X, train_y, val_y = train_test_split(X, y, random_state=1)\ntree_model = DecisionTreeClassifier(random_state=0, max_depth=5, min_samples_split=5).fit(train_X, train_y)",
      "execution_count": null,
      "outputs": []
    },
    {
      "metadata": {
        "_uuid": "4e41acfbf4aac345477843189332b0244985b8a6"
      },
      "cell_type": "markdown",
      "source": "For the sake of explanation, I use a Decision Tree which you can see below.\n\n"
    },
    {
      "metadata": {
        "trusted": true,
        "_uuid": "9883467c298aff26fa9067a3c52e81914b7613a8"
      },
      "cell_type": "code",
      "source": "features = [c for c in train.columns if c not in ['ID_code', 'target']]",
      "execution_count": null,
      "outputs": []
    },
    {
      "metadata": {
        "trusted": true,
        "_uuid": "90b880a7ee20e9f9b4d730a6aa3533e9a613164a"
      },
      "cell_type": "code",
      "source": "from sklearn import tree\nimport graphviz\ntree_graph = tree.export_graphviz(tree_model, out_file=None, feature_names=features)\ngraphviz.Source(tree_graph)",
      "execution_count": null,
      "outputs": []
    },
    {
      "metadata": {
        "_uuid": "aa18ba89df82369acf1eeccc9ade46d89e9c65a3"
      },
      "cell_type": "markdown",
      "source": "As guidance to read the tree:\n\n1. Leaves with children show their splitting criterion on the top\n1. The pair of values at the bottom show the count of True values and False values for the target respectively, of data points in that node of the tree."
    },
    {
      "metadata": {
        "trusted": true,
        "_uuid": "a2afa48cb3e7ed89e07b7ea5f14c67fa565c4a07"
      },
      "cell_type": "code",
      "source": "from matplotlib import pyplot as plt\nfrom pdpbox import pdp, get_dataset, info_plots\n\n# Create the data that we will plot\npdp_goals = pdp.pdp_isolate(model=tree_model, dataset=val_X, model_features=features, feature='var_81')\n\n# plot it\npdp.pdp_plot(pdp_goals, 'var_81')\nplt.show()",
      "execution_count": null,
      "outputs": []
    },
    {
      "metadata": {
        "_uuid": "8001fdfaf5436e0bf914dbea948fe15f86d6784e"
      },
      "cell_type": "markdown",
      "source": "A few items are worth pointing out as you interpret this plot\n\n1. The y axis is interpreted as change in the prediction from what it would be predicted at the baseline or leftmost value.\n1. A blue shaded area indicates level of confidence\n1. From this particular graph, we see that scoring a goal substantially increases your chances of winning \"Player of The Game.\" But extra goals beyond that appear to have little impact on predictions."
    },
    {
      "metadata": {
        "_uuid": "bd284df5d62d611a529251e5a9e9ded42956f450"
      },
      "cell_type": "markdown",
      "source": " <a id=\"5\"></a> <br>\n# 5- sample model\nSo far, we have used two  models, and at this point we add another model and we'll be expanding it soon."
    },
    {
      "metadata": {
        "trusted": true,
        "_uuid": "7ac7d44b0a6664339e8d4a58abacf35de4693163"
      },
      "cell_type": "code",
      "source": "Y_pred_rfc = rfc_model.predict(X_test)",
      "execution_count": null,
      "outputs": []
    },
    {
      "metadata": {
        "_uuid": "889fbdd4dd0550e74a051079113b8042da7cf5a8"
      },
      "cell_type": "markdown",
      "source": "or we can use tree_model"
    },
    {
      "metadata": {
        "trusted": true,
        "_uuid": "b973d4bedc26288c23eba15c349e1e5cfe6631b5"
      },
      "cell_type": "code",
      "source": "Y_pred_tree = tree_model.predict(X_test)",
      "execution_count": null,
      "outputs": []
    },
    {
      "metadata": {
        "_uuid": "b576919e7514d144a1a34933d98c341bdc93a854"
      },
      "cell_type": "markdown",
      "source": "You can change your model and submit the results of other models"
    },
    {
      "metadata": {
        "trusted": true,
        "_uuid": "c2765114557a8a202652b6a0397f6c5f23217ca2"
      },
      "cell_type": "code",
      "source": "submission1_xgboost = pd.DataFrame({\n        \"ID_code\": test[\"ID_code\"],\n        \"target\": Y_pred_rfc\n    })\nsubmission1_xgboost.to_csv('submission.csv', index=False)",
      "execution_count": null,
      "outputs": []
    },
    {
      "metadata": {
        "_uuid": "435fe67f1a833ad62045a29288c440c6952d315c"
      },
      "cell_type": "markdown",
      "source": "you can follow me on:\n> ###### [ GitHub](https://github.com/mjbahmani/)\n> ###### [Kaggle](https://www.kaggle.com/mjbahmani/)\n\n <b>I hope you find this kernel helpful and some <font color='red'>UPVOTES</font> would be very much appreciated.<b/>\n "
    },
    {
      "metadata": {
        "_uuid": "a4fcaac6e4e792e6313b496c578aeaf5329ec5a3"
      },
      "cell_type": "markdown",
      "source": "# References & credits"
    },
    {
      "metadata": {
        "_uuid": "f67456896c63e2834e461c68ec6a960b60789663"
      },
      "cell_type": "markdown",
      "source": "1. [permutation-importance](https://www.kaggle.com/dansbecker/permutation-importance)\n1. [partial-plots](https://www.kaggle.com/dansbecker/partial-plots)"
    },
    {
      "metadata": {
        "_uuid": "6ef2c570b8457a851fc753134b587d61a4d9082e"
      },
      "cell_type": "markdown",
      "source": "Go to first step: [Course Home Page](https://www.kaggle.com/mjbahmani/10-steps-to-become-a-data-scientist)\n\nGo to next step : [Titanic](https://www.kaggle.com/mjbahmani/a-comprehensive-ml-workflow-with-python)\n"
    },
    {
      "metadata": {
        "_uuid": "c1f7f7d015529da63ac495e5c2dcd08dc563e249"
      },
      "cell_type": "markdown",
      "source": "# Not Completed yet!!!"
    }
  ],
  "metadata": {
    "kernelspec": {
      "display_name": "Python 3",
      "language": "python",
      "name": "python3"
    },
    "language_info": {
      "name": "python",
      "version": "3.6.6",
      "mimetype": "text/x-python",
      "codemirror_mode": {
        "name": "ipython",
        "version": 3
      },
      "pygments_lexer": "ipython3",
      "nbconvert_exporter": "python",
      "file_extension": ".py"
    }
  },
  "nbformat": 4,
  "nbformat_minor": 1
}