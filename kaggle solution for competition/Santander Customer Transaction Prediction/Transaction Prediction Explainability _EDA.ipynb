{
  "cells": [
    {
      "metadata": {
        "_uuid": "8f2839f25d086af736a60e9eeb907d3b93b6e0e5",
        "_cell_guid": "b1076dfc-b9ad-4769-8c92-a6c4dae69d19",
        "trusted": true
      },
      "cell_type": "markdown",
      "source": " #  <div style=\"text-align: center\">Transaction Prediction Explainability +EDA  </div> \n###  <div style=\"text-align: center\">Quite Practical and Far from any Theoretical Concepts </div> \n<img src='https://storage.googleapis.com/kaggle-media/competitions/santander/atm_image.png' width=400 height=400>\n<div style=\"text-align:center\"> last update: <b>14/02/2019</b></div>\n\n\n\nYou can Fork code  and  Follow me on:\n\n> ###### [ GitHub](https://github.com/mjbahmani/10-steps-to-become-a-data-scientist)\n> ###### [Kaggle](https://www.kaggle.com/mjbahmani/)\n-------------------------------------------------------------------------------------------------------------\n <b>I hope you find this kernel helpful and some <font color='red'>UPVOTES</font> would be very much appreciated.</b>\n    \n -----------"
    },
    {
      "metadata": {
        "_cell_guid": "79c7e3d0-c299-4dcb-8224-4455121ee9b0",
        "collapsed": true,
        "_uuid": "d629ff2d2480ee46fbb7e2d37f6b5fab8052498a",
        "trusted": false
      },
      "cell_type": "markdown",
      "source": " <a id=\"top\"></a> <br>\n## Notebook  Content\n1. [Introduction](#1)\n1. [Load packages](#2)\n    1. [import](21)\n    1. [Setup](22)\n    1. [Version](23)\n1. [Problem Definition](#3)\n    1. [Problem Feature](#31)\n    1. [Aim](#32)\n    1. [Variables](#33)\n    1. [Evaluation](#34)\n1. [Exploratory Data Analysis(EDA)](#4)\n    1. [Data Collection](#41)\n    1. [Visualization](#42)\n    1. [Data Preprocessing](#43)\n1. [Conclusion](#5)\n1. [References](#6)"
    },
    {
      "metadata": {
        "_uuid": "af63d485947264b68c37768c73ffac21bb631c0f"
      },
      "cell_type": "markdown",
      "source": " <a id=\"1\"></a> <br>\n## 1- Introduction\nAt [Santander](https://www.santanderbank.com) their mission is to help people and businesses prosper. they are always looking for ways to help our customers understand their financial health and identify which products and services might help them achieve their monetary goals.\n<img src='https://www.smava.de/kredit/wp-content/uploads/2015/12/santander-bank.png' width=400 height=400>\n\nFor anyone taking first steps in data science, **Prediction** is a must know concept. "
    },
    {
      "metadata": {
        "_uuid": "733f1f0e45933f46a674df4d9ee6561de156d748"
      },
      "cell_type": "markdown",
      "source": " <a id=\"2\"></a> <br>\n ## 2- Load packages\n  <a id=\"21\"></a> <br>\n## 2-1 Import"
    },
    {
      "metadata": {
        "_kg_hide-input": true,
        "trusted": true,
        "_uuid": "7646c73810d475601436c096d36498cfaa489ec4"
      },
      "cell_type": "code",
      "source": "from sklearn.model_selection import StratifiedKFold\nimport matplotlib.patches as patch\nimport matplotlib.pyplot as plt\nfrom sklearn.svm import NuSVR\nfrom scipy.stats import norm\nfrom sklearn import svm\nimport lightgbm as lgb\nimport xgboost as xgb\nimport seaborn as sns\nimport pandas as pd\nimport numpy as np\nimport warnings\nimport glob\nimport sys\nimport os\nimport gc",
      "execution_count": null,
      "outputs": []
    },
    {
      "metadata": {
        "_uuid": "ec9e63f88e677ed60bfe5a8de4bb0b2a8be8b00a"
      },
      "cell_type": "markdown",
      "source": " <a id=\"22\"></a> <br>\n##  2-2 Setup"
    },
    {
      "metadata": {
        "_kg_hide-input": true,
        "trusted": true,
        "_uuid": "16768a965c3ced6a76d33642e11ecae18f5977e8"
      },
      "cell_type": "code",
      "source": "%matplotlib inline\n%precision 4\nwarnings.filterwarnings('ignore')\nplt.style.use('ggplot')\nnp.set_printoptions(suppress=True)\npd.set_option(\"display.precision\", 15)",
      "execution_count": null,
      "outputs": []
    },
    {
      "metadata": {
        "_uuid": "9bcec14c7403174f2a9fdab866ea8248aa76328d"
      },
      "cell_type": "markdown",
      "source": " <a id=\"23\"></a> <br>\n## 2-3 Version\n"
    },
    {
      "metadata": {
        "_kg_hide-input": true,
        "trusted": true,
        "_uuid": "4644581a5ce6c2c98ec2668a95037742b189c318"
      },
      "cell_type": "code",
      "source": "print('pandas: {}'.format(pd.__version__))\nprint('numpy: {}'.format(np.__version__))\nprint('Python: {}'.format(sys.version))",
      "execution_count": null,
      "outputs": []
    },
    {
      "metadata": {
        "_uuid": "ccfe7d54dac0cf31125a49b1981d25a69e679db0"
      },
      "cell_type": "markdown",
      "source": "<a id=\"3\"></a> \n<br>\n## 3- Problem Definition\nIn this **challenge**, we should help this **bank**  identify which **customers** will make a **specific transaction** in the future, irrespective of the amount of money transacted. The data provided for this competition has the same structure as the real data we have available to solve this **problem**.\n"
    },
    {
      "metadata": {
        "_uuid": "dc84d5445dab932c46e2c5dfe86f2131e98aa0f1"
      },
      "cell_type": "markdown",
      "source": "<a id=\"31\"></a> \n### 3-1 Problem Feature\n\n1. train.csv - the training set.\n1. test.csv - the test set. The test set contains some rows which are not included in scoring.\n1. sample_submission.csv - a sample submission file in the correct format.\n"
    },
    {
      "metadata": {
        "_uuid": "449535074de09edf5cdccb5a63539661fff29be6"
      },
      "cell_type": "markdown",
      "source": "<a id=\"32\"></a> \n### 3-2 Aim\nIn this competition, The task is to predict the value of **target** column in the test set."
    },
    {
      "metadata": {
        "_uuid": "184d1004ff1f90fdf9d475cbb37ea94b89dd2567"
      },
      "cell_type": "markdown",
      "source": "<a id=\"33\"></a> \n### 3-3 Variables\n\nWe are provided with an **anonymized dataset containing numeric feature variables**, the binary **target** column, and a string **ID_code** column.\n\nThe task is to predict the value of **target column** in the test set.\n"
    },
    {
      "metadata": {
        "_uuid": "81b77e49bae78bad2c31bc2ce101c1fff8296af0"
      },
      "cell_type": "markdown",
      "source": "<a id=\"34\"></a> \n## 3-4 evaluation\n**Submissions** are evaluated on area under the [ROC curve](http://en.wikipedia.org/wiki/Receiver_operating_characteristic) between the predicted probability and the observed target.\n<img src='https://upload.wikimedia.org/wikipedia/commons/6/6b/Roccurves.png' width=300 height=300>"
    },
    {
      "metadata": {
        "trusted": true,
        "_uuid": "9ba4b5a56a9c67899ed54c7e4dad0930ce90fbfa"
      },
      "cell_type": "code",
      "source": "from sklearn.metrics import roc_auc_score, roc_curve",
      "execution_count": null,
      "outputs": []
    },
    {
      "metadata": {
        "_uuid": "f8a54abda5d2e30c5cdb25c554bef1f8a341482c"
      },
      "cell_type": "markdown",
      "source": "<a id=\"4\"></a> \n## 4- Exploratory Data Analysis(EDA)\n In this section, we'll analysis how to use graphical and numerical techniques to begin uncovering the structure of your data. \n*  Data Collection\n*  Visualization\n*  Data Preprocessing\n*  Data Cleaning"
    },
    {
      "metadata": {
        "_uuid": "c90af9d21a49adcbd478c56871149f1282c58b7f"
      },
      "cell_type": "markdown",
      "source": " <a id=\"41\"></a> <br>\n## 4-1 Data Collection"
    },
    {
      "metadata": {
        "_kg_hide-input": true,
        "trusted": true,
        "_uuid": "1c883e09dbe7e4b4d7caeb2cf380ec0f07209531"
      },
      "cell_type": "code",
      "source": "print(os.listdir(\"../input/\"))",
      "execution_count": null,
      "outputs": []
    },
    {
      "metadata": {
        "_kg_hide-input": true,
        "trusted": true,
        "_uuid": "7427d2d9ce7dff9d63a355631a1718a6fb6c5847"
      },
      "cell_type": "code",
      "source": "# import Dataset to play with it\ntrain= pd.read_csv(\"../input/train.csv\")\ntest = pd.read_csv('../input/test.csv')",
      "execution_count": null,
      "outputs": []
    },
    {
      "metadata": {
        "_kg_hide-input": true,
        "trusted": true,
        "_uuid": "9be60393f64121beb23124bdec3cef638436e788"
      },
      "cell_type": "code",
      "source": "sample_submission = pd.read_csv('../input/sample_submission.csv')\nsample_submission.head()",
      "execution_count": null,
      "outputs": []
    },
    {
      "metadata": {
        "trusted": true,
        "_uuid": "6acf9a55418407ab1da0e7a8c4e1f540a2618ac3"
      },
      "cell_type": "code",
      "source": "train.shape, test.shape, sample_submission.shape",
      "execution_count": null,
      "outputs": []
    },
    {
      "metadata": {
        "trusted": true,
        "_kg_hide-input": true,
        "_uuid": "1d054476a562f14b8d7e88fd2a8ea3b7b70c371c"
      },
      "cell_type": "code",
      "source": "train.head(5)",
      "execution_count": null,
      "outputs": []
    },
    {
      "metadata": {
        "trusted": true,
        "_kg_hide-input": true,
        "_uuid": "53df1775b242c8e3374278075809c98dc3b2fb62",
        "scrolled": true
      },
      "cell_type": "code",
      "source": "train.describe()",
      "execution_count": null,
      "outputs": []
    },
    {
      "metadata": {
        "trusted": true,
        "_kg_hide-input": false,
        "_uuid": "590ed0ff228f6161e42ada37ef2345e71f7f40f5",
        "_kg_hide-output": true
      },
      "cell_type": "code",
      "source": "train.isna().sum().any()",
      "execution_count": null,
      "outputs": []
    },
    {
      "metadata": {
        "trusted": true,
        "_uuid": "28b7d475d28834f4947d58894b662cd399f31a8a",
        "_kg_hide-input": true
      },
      "cell_type": "code",
      "source": "type(train)",
      "execution_count": null,
      "outputs": []
    },
    {
      "metadata": {
        "_uuid": "c1eddbf9a17cb7b15b342b4d2d48af7f0ac79006"
      },
      "cell_type": "markdown",
      "source": " <a id=\"42\"></a> <br>\n## 4-2 Visualization"
    },
    {
      "metadata": {
        "trusted": true,
        "_uuid": "70207522d405040466649db4664f6dc9cb75849f"
      },
      "cell_type": "markdown",
      "source": "<a id=\"421\"></a> \n### 4-2-1 hist"
    },
    {
      "metadata": {
        "trusted": true,
        "_uuid": "51042af4ef472a7863f9698fdca2d99eefa0af7d"
      },
      "cell_type": "code",
      "source": "train['target'].value_counts().plot.bar()",
      "execution_count": null,
      "outputs": []
    },
    {
      "metadata": {
        "trusted": true,
        "_uuid": "0cf04a9128e231d216018ba2c23244d6c041e209"
      },
      "cell_type": "code",
      "source": "f,ax=plt.subplots(1,2,figsize=(20,10))\ntrain[train['target']==0].var_0.plot.hist(ax=ax[0],bins=20,edgecolor='black',color='red')\nax[0].set_title('target= 0')\nx1=list(range(0,85,5))\nax[0].set_xticks(x1)\ntrain[train['target']==1].var_0.plot.hist(ax=ax[1],color='green',bins=20,edgecolor='black')\nax[1].set_title('target= 1')\nx2=list(range(0,85,5))\nax[1].set_xticks(x2)\nplt.show()",
      "execution_count": null,
      "outputs": []
    },
    {
      "metadata": {
        "_uuid": "225972f02d20b1aed1a2d6a3dae7e2c14b7caad1"
      },
      "cell_type": "markdown",
      "source": "## Mean Frequency"
    },
    {
      "metadata": {
        "trusted": true,
        "_uuid": "427a904f784fbf353c728e3abafa8628ffa0a52c"
      },
      "cell_type": "code",
      "source": "train[train.columns[2:]].mean().plot('hist');plt.title('Mean Frequency');",
      "execution_count": null,
      "outputs": []
    },
    {
      "metadata": {
        "trusted": true,
        "_uuid": "1498698d6c5175ea7a10ff3595d9f0177e1e6861"
      },
      "cell_type": "markdown",
      "source": "<a id=\"423\"></a> \n### 4-2-3 countplot"
    },
    {
      "metadata": {
        "trusted": true,
        "_uuid": "90cae6c076bcefc862828b177672c2e481b6a15b",
        "_kg_hide-input": true
      },
      "cell_type": "code",
      "source": "f,ax=plt.subplots(1,2,figsize=(18,8))\ntrain['target'].value_counts().plot.pie(explode=[0,0.1],autopct='%1.1f%%',ax=ax[0],shadow=True)\nax[0].set_title('target')\nax[0].set_ylabel('')\nsns.countplot('target',data=train,ax=ax[1])\nax[1].set_title('target')\nplt.show()",
      "execution_count": null,
      "outputs": []
    },
    {
      "metadata": {
        "trusted": true,
        "_uuid": "565eea91ba475dfb935f89052738e98c4338206a"
      },
      "cell_type": "markdown",
      "source": "<a id=\"424\"></a> \n### 4-2-4 hist"
    },
    {
      "metadata": {
        "trusted": true,
        "_uuid": "4cafe1f825c8f5b7d1115411cf6018649ae2c2a1",
        "_kg_hide-input": true
      },
      "cell_type": "code",
      "source": "train[\"var_0\"].hist();",
      "execution_count": null,
      "outputs": []
    },
    {
      "metadata": {
        "trusted": true,
        "_uuid": "291bf70bbea5066cf44df3e4a1093d8b95999910"
      },
      "cell_type": "code",
      "source": "train[\"var_1\"].hist();",
      "execution_count": null,
      "outputs": []
    },
    {
      "metadata": {
        "trusted": true,
        "_uuid": "4fca943180a87f02bf9cdb0802835de1c1114df0"
      },
      "cell_type": "code",
      "source": "train[\"var_2\"].hist();",
      "execution_count": null,
      "outputs": []
    },
    {
      "metadata": {
        "trusted": true,
        "_uuid": "c7c539dd31e2d389813645c30e997f1728e9f926"
      },
      "cell_type": "markdown",
      "source": "<a id=\"426\"></a> \n### 4-2-6 Distplot"
    },
    {
      "metadata": {
        "trusted": true,
        "_uuid": "6b04bc254eee5dcdeac96c17f9c80a0657515a9b"
      },
      "cell_type": "code",
      "source": "sns.set(rc={'figure.figsize':(9,7)})\nsns.distplot(train['target']);",
      "execution_count": null,
      "outputs": []
    },
    {
      "metadata": {
        "_uuid": "b710f6cb8eb852a3b749774172c911de598b986c"
      },
      "cell_type": "markdown",
      "source": "<a id=\"427\"></a> \n### 4-2-7 violinplot"
    },
    {
      "metadata": {
        "trusted": true,
        "_uuid": "b01885275f75488166c034eafe8a0ca9870ab70b"
      },
      "cell_type": "code",
      "source": "sns.violinplot(data=train,x=\"target\", y=\"var_0\")",
      "execution_count": null,
      "outputs": []
    },
    {
      "metadata": {
        "trusted": true,
        "_uuid": "d3c8f0fbb3668e1023b8991a2e2a857a7d21c3b8"
      },
      "cell_type": "code",
      "source": "sns.violinplot(data=train,x=\"target\", y=\"var_1\")",
      "execution_count": null,
      "outputs": []
    },
    {
      "metadata": {
        "trusted": true,
        "_uuid": "c9c01ab969d0e85f4ba301bdb4656b8a6ec99d32"
      },
      "cell_type": "code",
      "source": "sns.violinplot(data=train,x=\"target\", y=\"var_3\")",
      "execution_count": null,
      "outputs": []
    },
    {
      "metadata": {
        "_uuid": "8a436a7a7f1391cb78ae3cec6c8d5adb42f41bd2"
      },
      "cell_type": "raw",
      "source": ""
    },
    {
      "metadata": {
        "_uuid": "8afaaae9f83971dd442a16af434d88318d82c352"
      },
      "cell_type": "markdown",
      "source": " <a id=\"43\"></a> <br>\n## 4-3 Data Preprocessing\n"
    },
    {
      "metadata": {
        "_kg_hide-output": true,
        "trusted": true,
        "_uuid": "6e5f5d0a8e6057a19c41d0698c76cfa5f0e61202"
      },
      "cell_type": "code",
      "source": "train.columns",
      "execution_count": null,
      "outputs": []
    },
    {
      "metadata": {
        "trusted": true,
        "_uuid": "1d31392a34a8bba87565f4a00a44084641a28f5b"
      },
      "cell_type": "code",
      "source": "print(len(train.columns))",
      "execution_count": null,
      "outputs": []
    },
    {
      "metadata": {
        "_kg_hide-input": true,
        "trusted": true,
        "_uuid": "ca9ae169e960fddc581b8da1b15c7e79d8bbe972"
      },
      "cell_type": "code",
      "source": "train.target.describe()",
      "execution_count": null,
      "outputs": []
    },
    {
      "metadata": {
        "trusted": true,
        "_kg_hide-input": false,
        "_uuid": "6adc1fb6f7ef818946843b3698583ade2458a218",
        "_kg_hide-output": true
      },
      "cell_type": "code",
      "source": "train.isna().sum().any()",
      "execution_count": null,
      "outputs": []
    },
    {
      "metadata": {
        "trusted": true,
        "_uuid": "5fa8d00d6686db02cc05e5068d34d5797194c277"
      },
      "cell_type": "code",
      "source": "#columns*rows\ntrain.size",
      "execution_count": null,
      "outputs": []
    },
    {
      "metadata": {
        "trusted": true,
        "_uuid": "2b8083e0022c342963869e609a65bae49cbe2d2a"
      },
      "cell_type": "code",
      "source": "print(train.info())",
      "execution_count": null,
      "outputs": []
    },
    {
      "metadata": {
        "trusted": true,
        "_uuid": "5f7f7d7af58eb891481afd42022ce5fb7e75ebbb"
      },
      "cell_type": "code",
      "source": "train['target'].unique()",
      "execution_count": null,
      "outputs": []
    },
    {
      "metadata": {
        "_uuid": "f9031786ba1022e0970303451664fbacd9687710"
      },
      "cell_type": "markdown",
      "source": "### dataset is imbalanced. "
    },
    {
      "metadata": {
        "trusted": true,
        "_uuid": "982afe00bd42859191af65e0fd43e06e74dbfab3"
      },
      "cell_type": "code",
      "source": "train['target'].value_counts()",
      "execution_count": null,
      "outputs": []
    },
    {
      "metadata": {
        "_uuid": "ad216b95bcbcf07e0b6ee6000f974acd0d2409b6"
      },
      "cell_type": "markdown",
      "source": "## skewness and kurtosis"
    },
    {
      "metadata": {
        "trusted": true,
        "_uuid": "b669c23c1de584988629ac99bbbe0dd74a56dd7c"
      },
      "cell_type": "code",
      "source": "#skewness and kurtosis\nprint(\"Skewness: %f\" % train['target'].skew())\nprint(\"Kurtosis: %f\" % train['target'].kurt())",
      "execution_count": null,
      "outputs": []
    },
    {
      "metadata": {
        "trusted": true,
        "_uuid": "2b2e6e28d8f308293242dd125f1990de99f2247e"
      },
      "cell_type": "code",
      "source": "train.groupby('target').count()",
      "execution_count": null,
      "outputs": []
    },
    {
      "metadata": {
        "_uuid": "bd284df5d62d611a529251e5a9e9ded42956f450"
      },
      "cell_type": "markdown",
      "source": "# Model Deployment"
    },
    {
      "metadata": {
        "trusted": true,
        "_uuid": "9fafaf9cadb57f7c4d51489df141aa3eb85fd2a1"
      },
      "cell_type": "code",
      "source": "cols=[\"target\",\"ID_code\"]\nX_train = train.drop(cols,axis=1)\ny_train = train[\"target\"]\n",
      "execution_count": null,
      "outputs": []
    },
    {
      "metadata": {
        "trusted": true,
        "_uuid": "b79b286d0b1d7bd46525c73efb4690a7145c5cc1"
      },
      "cell_type": "code",
      "source": "X_test  = test.drop(\"ID_code\",axis=1)",
      "execution_count": null,
      "outputs": []
    },
    {
      "metadata": {
        "trusted": true,
        "_uuid": "aa5c543a6cf5f32e4a3ba2611f3d6c4476fa9271"
      },
      "cell_type": "code",
      "source": "xgboost = xgb.XGBClassifier(max_depth=3, n_estimators=300, learning_rate=0.05).fit(X_train, y_train)",
      "execution_count": null,
      "outputs": []
    },
    {
      "metadata": {
        "trusted": true,
        "_uuid": "7ac7d44b0a6664339e8d4a58abacf35de4693163"
      },
      "cell_type": "code",
      "source": "Y_pred = xgboost.predict(X_test)",
      "execution_count": null,
      "outputs": []
    },
    {
      "metadata": {
        "_uuid": "b576919e7514d144a1a34933d98c341bdc93a854"
      },
      "cell_type": "markdown",
      "source": "You can change your model and submit the results of other models"
    },
    {
      "metadata": {
        "trusted": true,
        "_uuid": "c2765114557a8a202652b6a0397f6c5f23217ca2"
      },
      "cell_type": "code",
      "source": "submission1_xgboost = pd.DataFrame({\n        \"ID_code\": test[\"ID_code\"],\n        \"target\": Y_pred\n    })\nsubmission1_xgboost.to_csv('submission.csv', index=False)",
      "execution_count": null,
      "outputs": []
    },
    {
      "metadata": {
        "_uuid": "435fe67f1a833ad62045a29288c440c6952d315c"
      },
      "cell_type": "markdown",
      "source": "you can follow me on:\n> ###### [ GitHub](https://github.com/mjbahmani/)\n> ###### [Kaggle](https://www.kaggle.com/mjbahmani/)\n\n <b>I hope you find this kernel helpful and some <font color='red'>UPVOTES</font> would be very much appreciated.<b/>\n "
    },
    {
      "metadata": {
        "_uuid": "6ef2c570b8457a851fc753134b587d61a4d9082e"
      },
      "cell_type": "markdown",
      "source": "Go to first step: [Course Home Page](https://www.kaggle.com/mjbahmani/10-steps-to-become-a-data-scientist)\n\nGo to next step : [Titanic](https://www.kaggle.com/mjbahmani/a-comprehensive-ml-workflow-with-python)\n"
    },
    {
      "metadata": {
        "_uuid": "c1f7f7d015529da63ac495e5c2dcd08dc563e249"
      },
      "cell_type": "markdown",
      "source": "# Not Completed yet!!!"
    }
  ],
  "metadata": {
    "kernelspec": {
      "display_name": "Python 3",
      "language": "python",
      "name": "python3"
    },
    "language_info": {
      "name": "python",
      "version": "3.6.6",
      "mimetype": "text/x-python",
      "codemirror_mode": {
        "name": "ipython",
        "version": 3
      },
      "pygments_lexer": "ipython3",
      "nbconvert_exporter": "python",
      "file_extension": ".py"
    }
  },
  "nbformat": 4,
  "nbformat_minor": 1
}